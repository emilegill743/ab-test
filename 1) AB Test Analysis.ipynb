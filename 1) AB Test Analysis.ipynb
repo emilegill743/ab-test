{
 "cells": [
  {
   "cell_type": "markdown",
   "metadata": {},
   "source": [
    "### Aim\n",
    "Explore A/B test dataset results and test statistical significance of outcomes"
   ]
  },
  {
   "cell_type": "markdown",
   "metadata": {},
   "source": [
    "### 1) Importing and preparing data"
   ]
  },
  {
   "cell_type": "code",
   "execution_count": 1,
   "metadata": {},
   "outputs": [
    {
     "data": {
      "text/html": [
       "<div>\n",
       "<style scoped>\n",
       "    .dataframe tbody tr th:only-of-type {\n",
       "        vertical-align: middle;\n",
       "    }\n",
       "\n",
       "    .dataframe tbody tr th {\n",
       "        vertical-align: top;\n",
       "    }\n",
       "\n",
       "    .dataframe thead th {\n",
       "        text-align: right;\n",
       "    }\n",
       "</style>\n",
       "<table border=\"1\" class=\"dataframe\">\n",
       "  <thead>\n",
       "    <tr style=\"text-align: right;\">\n",
       "      <th></th>\n",
       "      <th>testVariant</th>\n",
       "      <th>finOnb</th>\n",
       "      <th>venSearch</th>\n",
       "      <th>venViews</th>\n",
       "      <th>venEnq</th>\n",
       "    </tr>\n",
       "  </thead>\n",
       "  <tbody>\n",
       "    <tr>\n",
       "      <td>0</td>\n",
       "      <td>0</td>\n",
       "      <td>1</td>\n",
       "      <td>0</td>\n",
       "      <td>0</td>\n",
       "      <td>0</td>\n",
       "    </tr>\n",
       "    <tr>\n",
       "      <td>1</td>\n",
       "      <td>1</td>\n",
       "      <td>1</td>\n",
       "      <td>0</td>\n",
       "      <td>0</td>\n",
       "      <td>0</td>\n",
       "    </tr>\n",
       "    <tr>\n",
       "      <td>2</td>\n",
       "      <td>2</td>\n",
       "      <td>1</td>\n",
       "      <td>14</td>\n",
       "      <td>16</td>\n",
       "      <td>1</td>\n",
       "    </tr>\n",
       "    <tr>\n",
       "      <td>3</td>\n",
       "      <td>1</td>\n",
       "      <td>1</td>\n",
       "      <td>4</td>\n",
       "      <td>4</td>\n",
       "      <td>0</td>\n",
       "    </tr>\n",
       "    <tr>\n",
       "      <td>4</td>\n",
       "      <td>0</td>\n",
       "      <td>1</td>\n",
       "      <td>0</td>\n",
       "      <td>0</td>\n",
       "      <td>0</td>\n",
       "    </tr>\n",
       "  </tbody>\n",
       "</table>\n",
       "</div>"
      ],
      "text/plain": [
       "   testVariant  finOnb  venSearch  venViews  venEnq\n",
       "0            0       1          0         0       0\n",
       "1            1       1          0         0       0\n",
       "2            2       1         14        16       1\n",
       "3            1       1          4         4       0\n",
       "4            0       1          0         0       0"
      ]
     },
     "execution_count": 1,
     "metadata": {},
     "output_type": "execute_result"
    }
   ],
   "source": [
    "import pandas as pd\n",
    "\n",
    "# Importing data from csv\n",
    "df = pd.read_csv(r'C:\\Users\\emile\\OneDrive\\Documents\\GitHub\\ab-test\\data.csv')\n",
    "\n",
    "# Selecting data of initial interest - i.e. those related to venue searches, enquiries etc.\n",
    "ven_df = df[['testVariant', 'finOnb', 'venSearch', 'venViews', 'venEnq']].copy()\n",
    "ven_df.head()"
   ]
  },
  {
   "cell_type": "code",
   "execution_count": 2,
   "metadata": {},
   "outputs": [
    {
     "data": {
      "text/html": [
       "<div>\n",
       "<style scoped>\n",
       "    .dataframe tbody tr th:only-of-type {\n",
       "        vertical-align: middle;\n",
       "    }\n",
       "\n",
       "    .dataframe tbody tr th {\n",
       "        vertical-align: top;\n",
       "    }\n",
       "\n",
       "    .dataframe thead th {\n",
       "        text-align: right;\n",
       "    }\n",
       "</style>\n",
       "<table border=\"1\" class=\"dataframe\">\n",
       "  <thead>\n",
       "    <tr style=\"text-align: right;\">\n",
       "      <th></th>\n",
       "      <th>testVariant</th>\n",
       "      <th>finOnb</th>\n",
       "      <th>venSearch</th>\n",
       "      <th>venViews</th>\n",
       "      <th>venEnq</th>\n",
       "    </tr>\n",
       "  </thead>\n",
       "  <tbody>\n",
       "    <tr>\n",
       "      <td>0</td>\n",
       "      <td>0</td>\n",
       "      <td>True</td>\n",
       "      <td>False</td>\n",
       "      <td>False</td>\n",
       "      <td>False</td>\n",
       "    </tr>\n",
       "    <tr>\n",
       "      <td>1</td>\n",
       "      <td>1</td>\n",
       "      <td>True</td>\n",
       "      <td>False</td>\n",
       "      <td>False</td>\n",
       "      <td>False</td>\n",
       "    </tr>\n",
       "    <tr>\n",
       "      <td>2</td>\n",
       "      <td>2</td>\n",
       "      <td>True</td>\n",
       "      <td>True</td>\n",
       "      <td>True</td>\n",
       "      <td>True</td>\n",
       "    </tr>\n",
       "    <tr>\n",
       "      <td>3</td>\n",
       "      <td>1</td>\n",
       "      <td>True</td>\n",
       "      <td>True</td>\n",
       "      <td>True</td>\n",
       "      <td>False</td>\n",
       "    </tr>\n",
       "    <tr>\n",
       "      <td>4</td>\n",
       "      <td>0</td>\n",
       "      <td>True</td>\n",
       "      <td>False</td>\n",
       "      <td>False</td>\n",
       "      <td>False</td>\n",
       "    </tr>\n",
       "  </tbody>\n",
       "</table>\n",
       "</div>"
      ],
      "text/plain": [
       "   testVariant  finOnb  venSearch  venViews  venEnq\n",
       "0            0    True      False     False   False\n",
       "1            1    True      False     False   False\n",
       "2            2    True       True      True    True\n",
       "3            1    True       True      True   False\n",
       "4            0    True      False     False   False"
      ]
     },
     "execution_count": 2,
     "metadata": {},
     "output_type": "execute_result"
    }
   ],
   "source": [
    "# Converting to boolean for > 0\n",
    "# Not interested at this stage about volumes, just whether a search/enquiry etc. was made\n",
    "\n",
    "bool_col_list = ven_df.columns[1:]\n",
    "ven_df[bool_col_list] = ven_df[bool_col_list].astype('bool')\n",
    "ven_df.head()"
   ]
  },
  {
   "cell_type": "code",
   "execution_count": 3,
   "metadata": {},
   "outputs": [
    {
     "data": {
      "text/html": [
       "<div>\n",
       "<style scoped>\n",
       "    .dataframe tbody tr th:only-of-type {\n",
       "        vertical-align: middle;\n",
       "    }\n",
       "\n",
       "    .dataframe tbody tr th {\n",
       "        vertical-align: top;\n",
       "    }\n",
       "\n",
       "    .dataframe thead th {\n",
       "        text-align: right;\n",
       "    }\n",
       "</style>\n",
       "<table border=\"1\" class=\"dataframe\">\n",
       "  <thead>\n",
       "    <tr style=\"text-align: right;\">\n",
       "      <th></th>\n",
       "      <th>finOnb</th>\n",
       "      <th>venSearch</th>\n",
       "      <th>venViews</th>\n",
       "      <th>venEnq</th>\n",
       "    </tr>\n",
       "    <tr>\n",
       "      <th>testVariant</th>\n",
       "      <th></th>\n",
       "      <th></th>\n",
       "      <th></th>\n",
       "      <th></th>\n",
       "    </tr>\n",
       "  </thead>\n",
       "  <tbody>\n",
       "    <tr>\n",
       "      <td>0</td>\n",
       "      <td>91.311755</td>\n",
       "      <td>57.069847</td>\n",
       "      <td>45.996593</td>\n",
       "      <td>19.420784</td>\n",
       "    </tr>\n",
       "    <tr>\n",
       "      <td>1</td>\n",
       "      <td>90.909091</td>\n",
       "      <td>52.188552</td>\n",
       "      <td>43.771044</td>\n",
       "      <td>20.875421</td>\n",
       "    </tr>\n",
       "    <tr>\n",
       "      <td>2</td>\n",
       "      <td>93.413174</td>\n",
       "      <td>64.071856</td>\n",
       "      <td>54.491018</td>\n",
       "      <td>20.359281</td>\n",
       "    </tr>\n",
       "  </tbody>\n",
       "</table>\n",
       "</div>"
      ],
      "text/plain": [
       "                finOnb  venSearch   venViews     venEnq\n",
       "testVariant                                            \n",
       "0            91.311755  57.069847  45.996593  19.420784\n",
       "1            90.909091  52.188552  43.771044  20.875421\n",
       "2            93.413174  64.071856  54.491018  20.359281"
      ]
     },
     "execution_count": 3,
     "metadata": {},
     "output_type": "execute_result"
    }
   ],
   "source": [
    "# Group by test variant and calculate conversion rate\n",
    "\n",
    "var_groupby = ven_df.groupby('testVariant')\n",
    "var_conv_df = var_groupby.sum() * 100 / var_groupby.count()\n",
    "var_conv_df.head()"
   ]
  },
  {
   "cell_type": "markdown",
   "metadata": {},
   "source": [
    "### 2) Visualising dataset"
   ]
  },
  {
   "cell_type": "code",
   "execution_count": 7,
   "metadata": {},
   "outputs": [
    {
     "data": {
      "image/png": "[encoded data removed]",
      "text/plain": [
       "<Figure size 432x288 with 1 Axes>"
      ]
     },
     "metadata": {
      "needs_background": "light"
     },
     "output_type": "display_data"
    }
   ],
   "source": [
    "import matplotlib.pyplot as plt\n",
    "\n",
    "# Plotting conversion rates of different stages for test variants\n",
    "var_conv_df.plot(kind='bar')\n",
    "legend = plt.legend(['Finished Onboarding', 'Made Venue Search', 'Viewed Venue', 'Made Enquiry'],\n",
    "                    bbox_to_anchor = (1,1))\n",
    "xlab = plt.xlabel('Test Variant')\n",
    "ylab = plt.ylabel('% conversion')\n",
    "plt.show()"
   ]
  },
  {
   "cell_type": "code",
   "execution_count": 5,
   "metadata": {
    "scrolled": true
   },
   "outputs": [
    {
     "data": {
      "image/png": "[encoded data removed]",
      "text/plain": [
       "<Figure size 432x288 with 1 Axes>"
      ]
     },
     "metadata": {
      "needs_background": "light"
     },
     "output_type": "display_data"
    }
   ],
   "source": [
    "# Plotting an overlayed horizontal bar chart\n",
    "# for easier comparison of test performance\n",
    "plt.barh(var_conv_df.index, var_conv_df.finOnb, tick_label=[0,1,2])\n",
    "plt.barh(var_conv_df.index, var_conv_df.venSearch, tick_label=[0,1,2])\n",
    "plt.barh(var_conv_df.index, var_conv_df.venViews, tick_label=[0,1,2])\n",
    "plt.barh(var_conv_df.index, var_conv_df.venEnq, tick_label=[0,1,2])\n",
    "\n",
    "xlab = plt.xlabel('% conversion')\n",
    "ylab = plt.ylabel('Test Variant')\n",
    "plt.xlim(0,100)\n",
    "legend = plt.legend(['Finished Onboarding', 'Made Venue Search', 'Viewed Venue', 'Made Enquiry'],\n",
    "                    bbox_to_anchor = (1,1))\n",
    "plt.show()"
   ]
  },
  {
   "cell_type": "markdown",
   "metadata": {},
   "source": [
    "### 3) Performing Hypothesis Tests\n",
    "\n",
    "#### Method:\n",
    "Null hypothesis:\n",
    "    \n",
    "    Conversion rate to a given stage of user interaction is not increased for the variant.\n",
    "\n",
    "Permutation test:\n",
    "    \n",
    "    Significance level of 0.05 used throughout\n",
    "\n",
    "    Test statistic - conversion rate differential between the variant and control group.\n",
    "\n",
    "    Data for given variant combined with the control variant and resampled many times (10000 samples being take in this case) to produce a distribution of values for the test statistic (permutation replicates).\n",
    "    Looking at the proportion of permutation replicates at least as extreme as the actual observed value of our test statistic, we calculate a p-value for the test and determine whether we can reject the assumption made by the null hypothesis at the 0.05 significance level."
   ]
  },
  {
   "cell_type": "code",
   "execution_count": 6,
   "metadata": {},
   "outputs": [
    {
     "name": "stdout",
     "output_type": "stream",
     "text": [
      "\n",
      "Test Variant 1 :\n",
      "\n",
      "\tfinOnb, p-value : 0.6203\n",
      "\n",
      "\tUnable to reject the null hypothesis at 0.05 significance level\n",
      "        We can not be sure that finOnb has increased in a statistically\n",
      "        significant way by switching to test variant 1\n",
      "\n",
      "\tvenSearch, p-value : 0.928\n",
      "\n",
      "\tUnable to reject the null hypothesis at 0.05 significance level\n",
      "        We can not be sure that venSearch has increased in a statistically\n",
      "        significant way by switching to test variant 1\n",
      "\n",
      "\tvenViews, p-value : 0.7512\n",
      "\n",
      "\tUnable to reject the null hypothesis at 0.05 significance level\n",
      "        We can not be sure that venViews has increased in a statistically\n",
      "        significant way by switching to test variant 1\n",
      "\n",
      "\tvenEnq, p-value : 0.3292\n",
      "\n",
      "\tUnable to reject the null hypothesis at 0.05 significance level\n",
      "        We can not be sure that venEnq has increased in a statistically\n",
      "        significant way by switching to test variant 1\n",
      "\n",
      "Test Variant 2 :\n",
      "\n",
      "\tfinOnb, p-value : 0.2431\n",
      "\n",
      "\tUnable to reject the null hypothesis at 0.05 significance level\n",
      "        We can not be sure that finOnb has increased in a statistically\n",
      "        significant way by switching to test variant 2\n",
      "\n",
      "\tvenSearch, p-value : 0.0639\n",
      "\n",
      "\tUnable to reject the null hypothesis at 0.05 significance level\n",
      "        We can not be sure that venSearch has increased in a statistically\n",
      "        significant way by switching to test variant 2\n",
      "\n",
      "\tvenViews, p-value : 0.0304\n",
      "\n",
      "\tReject null hypothesis at 0.05 significance level\n",
      "        We may conclude that venViews has increased in a statistically \n",
      "        significant way by switching to test variant 2\n",
      "\n",
      "\tvenEnq, p-value : 0.4258\n",
      "\n",
      "\tUnable to reject the null hypothesis at 0.05 significance level\n",
      "        We can not be sure that venEnq has increased in a statistically\n",
      "        significant way by switching to test variant 2\n"
     ]
    }
   ],
   "source": [
    "import bridebook_functions as bf\n",
    "\n",
    "# Split boolean dataframe ven_df by test variant\n",
    "var0_df = ven_df[ven_df['testVariant'] == 0]\n",
    "var1_df = ven_df[ven_df['testVariant'] == 1]\n",
    "var2_df = ven_df[ven_df['testVariant'] == 2]\n",
    "\n",
    "# Choosing significance level\n",
    "a = 0.05\n",
    "\n",
    "# Performing hypothesis test for each variable of each test variant\n",
    "for df in [var1_df, var2_df]:\n",
    "    \n",
    "    print(f'\\nTest Variant {df.iloc[0][0]} :')\n",
    "    \n",
    "    for col in df.columns[1:] :\n",
    "\n",
    "        # Calculate p-value from permutation test\n",
    "        p_val = bf.permutation_test(var0_df[col],\n",
    "                                    df[col],\n",
    "                                    bf.conv_diff)\n",
    "        \n",
    "        print(f'\\n\\t{col}, p-value : {p_val}')\n",
    "        \n",
    "        if p_val < a:\n",
    "        \n",
    "            print(\n",
    "                f'''\\n\\tReject null hypothesis at {a} significance level\n",
    "        We may conclude that {col} has increased in a statistically \n",
    "        significant way by switching to test variant {df.iloc[0][0]}''')\n",
    "        else:\n",
    "            print(\n",
    "                f'''\\n\\tUnable to reject the null hypothesis at {a} significance level\n",
    "        We can not be sure that {col} has increased in a statistically\n",
    "        significant way by switching to test variant {df.iloc[0][0]}''')     \n",
    "    \n"
   ]
  }
 ],
 "metadata": {
  "kernelspec": {
   "display_name": "Python 3",
   "language": "python",
   "name": "python3"
  },
  "language_info": {
   "codemirror_mode": {
    "name": "ipython",
    "version": 3
   },
   "file_extension": ".py",
   "mimetype": "text/x-python",
   "name": "python",
   "nbconvert_exporter": "python",
   "pygments_lexer": "ipython3",
   "version": "3.7.4"
  }
 },
 "nbformat": 4,
 "nbformat_minor": 2
}